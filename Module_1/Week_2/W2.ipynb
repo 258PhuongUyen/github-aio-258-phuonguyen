{
  "cells": [
    {
      "cell_type": "markdown",
      "metadata": {},
      "source": [
        "Câu hỏi tự luận"
      ]
    },
    {
      "cell_type": "markdown",
      "metadata": {},
      "source": [
        "Câu 1"
      ]
    },
    {
      "cell_type": "code",
      "execution_count": null,
      "metadata": {},
      "outputs": [],
      "source": [
        "def max_kernel(num_list, k):\n",
        "    sub_list = []\n",
        "    result = []\n",
        "    for i in num_list:\n",
        "        sub_list.append(i)\n",
        "        if len(sub_list) == k:\n",
        "            result.append(max(sub_list))\n",
        "            del sub_list[0]\n",
        "    return result\n",
        "\n",
        "assert max_kernel([3, 4, 5, 1, -44], 3) == [5, 5, 5]\n",
        "num_list = [3, 4, 5, 1, -44 , 5 ,10, 12 ,33, 1]\n",
        "k = 3\n",
        "print ( max_kernel ( num_list , k))"
      ]
    },
    {
      "cell_type": "markdown",
      "metadata": {},
      "source": [
        "Câu 2"
      ]
    },
    {
      "cell_type": "code",
      "execution_count": null,
      "metadata": {},
      "outputs": [],
      "source": [
        "def character_count (word):\n",
        "  character_statistic = {}\n",
        "  for character in word:\n",
        "    if character in character_statistic:\n",
        "      character_statistic[character] += 1\n",
        "    else:\n",
        "      character_statistic[character] = 1\n",
        "  return character_statistic\n",
        "\n",
        "word = \"Happiness\"\n",
        "print(character_count(word))\n",
        "word = \"smiles\"\n",
        "print(character_count(word))"
      ]
    },
    {
      "cell_type": "markdown",
      "metadata": {},
      "source": [
        "Câu 3"
      ]
    },
    {
      "cell_type": "code",
      "execution_count": null,
      "metadata": {},
      "outputs": [],
      "source": [
        "!gdown https://drive.google.com/uc?id=1IBScGdW2xlNsc9v5zSAya548kNgiOrko\n",
        "\n",
        "def count_word ( file_path ):\n",
        "  counter = {}\n",
        "  with open(file_path, 'r') as f:\n",
        "    for i in f:\n",
        "      for word in i.split ():\n",
        "        if word in counter:\n",
        "          counter[word] += 1\n",
        "        else:\n",
        "          counter[word] = 1\n",
        "  return counter\n",
        "\n",
        "file_path = '/content/P1_data.txt'\n",
        "result = count_word(file_path)\n",
        "print(result)"
      ]
    },
    {
      "cell_type": "markdown",
      "metadata": {},
      "source": [
        "Câu 4"
      ]
    },
    {
      "cell_type": "code",
      "execution_count": null,
      "metadata": {},
      "outputs": [],
      "source": [
        "def levenshtein_distance (token1,token2):\n",
        "  distances =[[0]*(len(token2)+1) for i in range (len(token1)+1)]\n",
        "  for t1 in range (len(token1)+1):\n",
        "    distances [t1][0]=t1\n",
        "  for t2 in range (len(token2)+1):\n",
        "    distances[0][t2]=t2\n",
        " \n",
        "  a=0\n",
        "  b=0\n",
        "  c=0\n",
        "  for t1 in range (1,len(token1)+1):\n",
        "    for t2 in range (1,len(token2)+1):\n",
        "      if token1[t1-1]==token2[t2-1]:\n",
        "        distances[t1][t2]=distances[t1-1][t2-1] \n",
        "      else:\n",
        "        a = distances[t1][t2-1]\n",
        "        b = distances[t1-1][t2]\n",
        "        c = distances[t1-1][t2-1]\n",
        "        if (a<=b and a<=c):\n",
        "          distances[t1][t2]=a+1\n",
        "        elif (b<=a and b<=c):\n",
        "          distances[t1][t2]=b+1\n",
        "        else:\n",
        "          distances[t1][t2]=c+1\n",
        "\n",
        "  return distances[len(token1)][len(token2)]\n",
        "\n",
        "print ( levenshtein_distance (\"kitten\", \"sitting\"))"
      ]
    },
    {
      "cell_type": "markdown",
      "metadata": {},
      "source": [
        "Câu hỏi trắc nghiệm"
      ]
    },
    {
      "cell_type": "markdown",
      "metadata": {},
      "source": [
        "Câu 1"
      ]
    },
    {
      "cell_type": "code",
      "execution_count": null,
      "metadata": {
        "colab": {
          "base_uri": "https://localhost:8080/"
        },
        "id": "TZb4KYwiMCMb",
        "outputId": "95d16e60-ca81-4909-c65d-8c70a8339913"
      },
      "outputs": [],
      "source": [
        "def max_kernel(num_list, k):\n",
        "    sub_list = []\n",
        "    result = []\n",
        "    for i in num_list:\n",
        "        sub_list.append(i)\n",
        "        if len(sub_list) == k:\n",
        "            result.append(max(sub_list))\n",
        "            del sub_list[0]\n",
        "    return result\n",
        "\n",
        "assert max_kernel([3, 4, 5, 1, -44], 3) == [5, 5, 5]\n",
        "num_list = [3, 4, 5, 1, -44 , 5 ,10, 12 ,33, 1]\n",
        "k = 3\n",
        "print ( max_kernel ( num_list , k))\n"
      ]
    },
    {
      "cell_type": "markdown",
      "metadata": {},
      "source": [
        "Câu 2"
      ]
    },
    {
      "cell_type": "code",
      "execution_count": null,
      "metadata": {
        "colab": {
          "base_uri": "https://localhost:8080/"
        },
        "id": "pJ7a3ZxUP_PC",
        "outputId": "9e446e6d-3a07-4837-a848-33b4675da6fe"
      },
      "outputs": [],
      "source": [
        "def character_count (word):\n",
        "  character_statistic = {}\n",
        "  for character in word:\n",
        "    if character in character_statistic:\n",
        "      character_statistic[character] += 1\n",
        "    else:\n",
        "      character_statistic[character] = 1\n",
        "  return character_statistic\n",
        "\n",
        "assert character_count (\"Baby\") == {'B': 1, 'a': 1, 'b': 1, 'y': 1}\n",
        "print ( character_count ('smiles'))"
      ]
    },
    {
      "cell_type": "markdown",
      "metadata": {},
      "source": [
        "Câu 3"
      ]
    },
    {
      "cell_type": "code",
      "execution_count": null,
      "metadata": {
        "colab": {
          "base_uri": "https://localhost:8080/"
        },
        "id": "8-wF4yxgQssv",
        "outputId": "a0e113f4-14b1-4aad-dc7f-42c847bcb0d9"
      },
      "outputs": [],
      "source": [
        "!gdown https://drive.google.com/uc?id=1IBScGdW2xlNsc9v5zSAya548kNgiOrko\n",
        "\n",
        "def count_word ( file_path ):\n",
        "  counter = {}\n",
        "  with open(file_path, 'r') as f:\n",
        "    for i in f:\n",
        "      for word in i.split ():\n",
        "        if word in counter:\n",
        "          counter[word] += 1\n",
        "        else:\n",
        "          counter[word] = 1\n",
        "  return counter\n",
        "\n",
        "file_path = '/content/P1_data.txt'\n",
        "result = count_word(file_path)\n",
        "assert result['who'] == 3\n",
        "print(result['man'])"
      ]
    },
    {
      "cell_type": "markdown",
      "metadata": {},
      "source": [
        "Câu 4"
      ]
    },
    {
      "cell_type": "code",
      "execution_count": null,
      "metadata": {
        "colab": {
          "base_uri": "https://localhost:8080/"
        },
        "id": "P1C48Bd5UOdy",
        "outputId": "b7ee36d7-9ffe-4ac6-b076-0c7109b8f807"
      },
      "outputs": [],
      "source": [
        "def levenshtein_distance (token1,token2):\n",
        "  distances =[[0]*(len(token2)+1) for i in range (len(token1)+1)]\n",
        "  for t1 in range (len(token1)+1):\n",
        "    distances [t1][0]=t1\n",
        "  for t2 in range (len(token2)+1):\n",
        "    distances[0][t2]=t2\n",
        "\n",
        "  a=0\n",
        "  b=0\n",
        "  c=0\n",
        "  for t1 in range (1,len(token1)+1):\n",
        "    for t2 in range (1,len(token2)+1):\n",
        "      if token1[t1-1]==token2[t2-1]:\n",
        "        distances[t1][t2]=distances[t1-1][t2-1]\n",
        "      else:\n",
        "        a = distances[t1][t2-1]\n",
        "        b = distances[t1-1][t2]\n",
        "        c = distances[t1-1][t2-1]\n",
        "        if (a<=b and a<=c):\n",
        "          distances[t1][t2]=a+1\n",
        "        elif (b<=a and b<=c):\n",
        "          distances[t1][t2]=b+1\n",
        "        else:\n",
        "          distances[t1][t2]=c+1\n",
        "\n",
        "  return distances[len(token1)][len(token2)]\n",
        "assert levenshtein_distance (\"hi\", \"hello\") == 4.0\n",
        "print ( levenshtein_distance (\"hola\", \"hello\"))"
      ]
    },
    {
      "cell_type": "markdown",
      "metadata": {},
      "source": [
        "Câu 5"
      ]
    },
    {
      "cell_type": "code",
      "execution_count": null,
      "metadata": {
        "colab": {
          "base_uri": "https://localhost:8080/"
        },
        "id": "Gu5r-PNvXUNf",
        "outputId": "35430e90-393f-4d26-bddc-3f6c15a20614"
      },
      "outputs": [],
      "source": [
        "def check_the_number (N):\n",
        "  list_of_numbers = []\n",
        "  result = \"\"\n",
        "  for i in range (1, 5):\n",
        "    if i not in list_of_numbers:\n",
        "      list_of_numbers.append(i)\n",
        "    if N in list_of_numbers :\n",
        "      results = \"True\"\n",
        "    if N not in list_of_numbers :\n",
        "      results = \"False\"\n",
        "  return results\n",
        "N = 7\n",
        "assert check_the_number (N) == \"False\"\n",
        "N = 2\n",
        "results = check_the_number (N)\n",
        "print (results)"
      ]
    },
    {
      "cell_type": "markdown",
      "metadata": {},
      "source": [
        "Câu 6"
      ]
    },
    {
      "cell_type": "code",
      "execution_count": null,
      "metadata": {
        "colab": {
          "base_uri": "https://localhost:8080/"
        },
        "id": "sgtD919YZD7S",
        "outputId": "7572c3db-6315-4a1c-cf3a-14f0e8677e08"
      },
      "outputs": [],
      "source": [
        "def my_function (data , max , min):\n",
        "  result = []\n",
        "  for i in data :\n",
        "    if i < min :\n",
        "      result . append (min )\n",
        "    elif i > max :\n",
        "      result . append (max )\n",
        "    else :\n",
        "      result . append (i)\n",
        "  return result\n",
        "\n",
        "my_list = [5, 2, 5, 0, 1]\n",
        "max = 1\n",
        "min = 0\n",
        "assert my_function (max = max , min = min , data = my_list ) == [1, 1, 1, 0, 1]\n",
        "\n",
        "my_list = [10 , 2, 5, 0, 1]\n",
        "max = 2\n",
        "min = 1\n",
        "print ( my_function (max = max , min = min , data = my_list ))"
      ]
    },
    {
      "cell_type": "markdown",
      "metadata": {},
      "source": [
        "Câu 7"
      ]
    },
    {
      "cell_type": "code",
      "execution_count": null,
      "metadata": {
        "colab": {
          "base_uri": "https://localhost:8080/"
        },
        "id": "SbBOjnjsZeEG",
        "outputId": "be2aca0a-e52f-4b4b-be5b-44575b351579"
      },
      "outputs": [],
      "source": [
        "def my_function (x, y):\n",
        "  x.extend(y)\n",
        "  return x\n",
        "\n",
        "list_num1 = ['a', 2, 5]\n",
        "list_num2 = [1, 1]\n",
        "list_num3 = [0, 0]\n",
        "\n",
        "assert my_function ( list_num1 , my_function ( list_num2 , list_num3 )) == ['a', 2, 5, 1, 1,0, 0]\n",
        "\n",
        "list_num1 = [1, 2]\n",
        "list_num2 = [3, 4]\n",
        "list_num3 = [0, 0]\n",
        "\n",
        "print ( my_function ( list_num1 , my_function ( list_num2 , list_num3 )))"
      ]
    },
    {
      "cell_type": "markdown",
      "metadata": {},
      "source": [
        "Câu 8"
      ]
    },
    {
      "cell_type": "code",
      "execution_count": null,
      "metadata": {
        "colab": {
          "base_uri": "https://localhost:8080/"
        },
        "id": "hX5TaHk4aD8x",
        "outputId": "987c8388-66c8-4df0-c1ce-68d43b4a9d84"
      },
      "outputs": [],
      "source": [
        "def my_function (n):\n",
        "  min_value = n[0]\n",
        "  for i in n:\n",
        "    if i < min_value:\n",
        "      min_value = i\n",
        "  return min_value\n",
        "\n",
        "my_list = [1, 22, 93, -100]\n",
        "assert my_function(my_list) == -100\n",
        "\n",
        "my_list = [1, 2, 3, -1]\n",
        "print(my_function(my_list))"
      ]
    },
    {
      "cell_type": "markdown",
      "metadata": {},
      "source": [
        "Câu 9"
      ]
    },
    {
      "cell_type": "code",
      "execution_count": null,
      "metadata": {
        "colab": {
          "base_uri": "https://localhost:8080/"
        },
        "id": "Pq9m9wHlcWVk",
        "outputId": "6b04eb9e-06c0-46ec-fa49-e42891a25185"
      },
      "outputs": [],
      "source": [
        "def my_function (n):\n",
        "  max_value = n[0]\n",
        "  for i in n:\n",
        "    if i > max_value:\n",
        "      max_value = i\n",
        "  return max_value\n",
        "\n",
        "my_list = [1001 , 9, 100 , 0]\n",
        "assert my_function ( my_list ) == 1001\n",
        "\n",
        "my_list = [1, 9, 9, 0]\n",
        "print ( my_function ( my_list ))"
      ]
    },
    {
      "cell_type": "markdown",
      "metadata": {},
      "source": [
        "Câu 10"
      ]
    },
    {
      "cell_type": "code",
      "execution_count": null,
      "metadata": {
        "colab": {
          "base_uri": "https://localhost:8080/"
        },
        "id": "skeaERRvcn_z",
        "outputId": "b85c2d20-4e9b-4a24-b913-f0b825ac71d8"
      },
      "outputs": [],
      "source": [
        "from re import I\n",
        "def My_function (integers, number = 1):\n",
        "  return any (i == number for i in integers)\n",
        "  if i == number:\n",
        "    return True\n",
        "  else:\n",
        "    return False\n",
        "\n",
        "my_list = [1, 3, 9, 4]\n",
        "assert My_function ( my_list , -1) == False\n",
        "\n",
        "my_list = [1, 2, 3, 4]\n",
        "print ( My_function ( my_list , 2))"
      ]
    },
    {
      "cell_type": "markdown",
      "metadata": {},
      "source": [
        "Câu 11"
      ]
    },
    {
      "cell_type": "code",
      "execution_count": null,
      "metadata": {
        "colab": {
          "base_uri": "https://localhost:8080/"
        },
        "id": "N4oJE54zdaNY",
        "outputId": "0b0009ed-17e5-4755-8f76-f523af8ad615"
      },
      "outputs": [],
      "source": [
        "def my_function ( list_nums = [0, 1, 2]):\n",
        "  var = 0\n",
        "  for i in list_nums :\n",
        "    var += i\n",
        "  return var / len(list_nums)\n",
        "\n",
        "assert my_function ([4 , 6, 8]) == 6\n",
        "\n",
        "print ( my_function ())"
      ]
    },
    {
      "cell_type": "markdown",
      "metadata": {},
      "source": [
        "Câu 12"
      ]
    },
    {
      "cell_type": "code",
      "execution_count": null,
      "metadata": {
        "colab": {
          "base_uri": "https://localhost:8080/"
        },
        "id": "GM7-ODiydzca",
        "outputId": "9efe92e2-5942-4ccc-a32b-f0fda8857a3f"
      },
      "outputs": [],
      "source": [
        "def my_function ( data ):\n",
        "  var = []\n",
        "  for i in data :\n",
        "    if i%3==0:\n",
        "      var.append(i)\n",
        "  return var\n",
        "\n",
        "assert my_function ([3 , 9, 4, 5]) == [3, 9]\n",
        "print ( my_function ([1 , 2, 3, 5, 6]))"
      ]
    },
    {
      "cell_type": "markdown",
      "metadata": {},
      "source": [
        "Câu 13"
      ]
    },
    {
      "cell_type": "code",
      "execution_count": null,
      "metadata": {
        "colab": {
          "base_uri": "https://localhost:8080/"
        },
        "id": "52-HdGsKeHeJ",
        "outputId": "cde2a7a0-abd5-4723-ee94-34d61a7e0702"
      },
      "outputs": [],
      "source": [
        "def my_function (y):\n",
        "  var = 1\n",
        "  while (y > 1):\n",
        "     var *= y\n",
        "     y -= 1\n",
        "  return var\n",
        "\n",
        "assert my_function (8) == 40320\n",
        "print ( my_function (4))"
      ]
    },
    {
      "cell_type": "markdown",
      "metadata": {},
      "source": [
        "Câu 14"
      ]
    },
    {
      "cell_type": "code",
      "execution_count": null,
      "metadata": {
        "colab": {
          "base_uri": "https://localhost:8080/"
        },
        "id": "Sifbbj4Dfboc",
        "outputId": "8e3ce7ca-cfc3-4efd-a17c-cde75aaab35b"
      },
      "outputs": [],
      "source": [
        "def my_function (x):\n",
        "  reversed_x = ''\n",
        "  for i in x:\n",
        "        reversed_x = i + reversed_x\n",
        "  return reversed_x\n",
        "\n",
        "x = 'I can do it'\n",
        "assert my_function (x)=='ti od nac I'\n",
        "\n",
        "x = 'apricot'\n",
        "print ( my_function (x))"
      ]
    },
    {
      "cell_type": "markdown",
      "metadata": {},
      "source": [
        "Câu 15"
      ]
    },
    {
      "cell_type": "code",
      "execution_count": null,
      "metadata": {
        "colab": {
          "base_uri": "https://localhost:8080/"
        },
        "id": "zaPyovmhiLcO",
        "outputId": "41207e79-618b-4cdd-ae2e-0d4008f0b441"
      },
      "outputs": [],
      "source": [
        "def function_helper(x):\n",
        "    if x > 0:\n",
        "        return 'T'\n",
        "    else:\n",
        "        return 'N'\n",
        "\n",
        "def my_function(data):\n",
        "    res = [function_helper(x) for x in data]\n",
        "    return res\n",
        "\n",
        "data = [10, 0, -10, -1]\n",
        "assert my_function(data) == ['T', 'N', 'N', 'N']\n",
        "\n",
        "data = [2, 3, 5, -1]\n",
        "print(my_function(data))"
      ]
    },
    {
      "cell_type": "markdown",
      "metadata": {},
      "source": [
        "Câu 16"
      ]
    },
    {
      "cell_type": "code",
      "execution_count": null,
      "metadata": {
        "colab": {
          "base_uri": "https://localhost:8080/"
        },
        "id": "ynZrMvkdjVb0",
        "outputId": "29db63e4-f5b0-49c2-db55-58f21027f804"
      },
      "outputs": [],
      "source": [
        "def function_helper (x, data ):\n",
        "  for i in data :\n",
        "    if x == i:\n",
        "      return 0\n",
        "  return 1\n",
        "\n",
        "def my_function ( data ):\n",
        "  res = []\n",
        "  for i in data :\n",
        "    if function_helper (i, res):\n",
        "      res.append (i)\n",
        "  return res\n",
        "\n",
        "lst = [10, 10, 9, 7, 7]\n",
        "assert my_function(lst) == [10, 9, 7]\n",
        "\n",
        "lst = [9, 9, 8, 1, 1]\n",
        "print(my_function(lst))"
      ]
    }
  ],
  "metadata": {
    "colab": {
      "provenance": []
    },
    "kernelspec": {
      "display_name": "Python 3",
      "name": "python3"
    },
    "language_info": {
      "name": "python"
    }
  },
  "nbformat": 4,
  "nbformat_minor": 0
}
