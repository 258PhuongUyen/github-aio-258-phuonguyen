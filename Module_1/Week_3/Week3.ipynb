{
  "cells": [
    {
      "cell_type": "markdown",
      "metadata": {
        "id": "fB56jaHZM1JM"
      },
      "source": [
        "**CÂU HỎI TRẮC NGHIỆM**"
      ]
    },
    {
      "cell_type": "markdown",
      "metadata": {
        "id": "pNLt0cRCM5w_"
      },
      "source": [
        "Câu 1"
      ]
    },
    {
      "cell_type": "code",
      "execution_count": 1,
      "metadata": {
        "colab": {
          "base_uri": "https://localhost:8080/"
        },
        "id": "rEWy4GwGMuD6",
        "outputId": "7d85ef37-4e3c-4e1f-c6bb-4d1819b2a03a"
      },
      "outputs": [
        {
          "data": {
            "text/plain": [
              "tensor([0.0900, 0.2447, 0.6652])"
            ]
          },
          "execution_count": 1,
          "metadata": {},
          "output_type": "execute_result"
        }
      ],
      "source": [
        "import torch\n",
        "import torch.nn as nn\n",
        "\n",
        "data = torch.Tensor ([1,2,3])\n",
        "softmax_function = nn.Softmax ( dim =0)\n",
        "output = softmax_function ( data )\n",
        "assert torch.isclose(round(output [0]. item (), 2), 0.09, rtol=1e-09, atol=1e-09)\n",
        "output"
      ]
    },
    {
      "cell_type": "markdown",
      "metadata": {
        "id": "dlB7tAEuNLVZ"
      },
      "source": [
        "Câu 2"
      ]
    },
    {
      "cell_type": "code",
      "execution_count": 3,
      "metadata": {
        "colab": {
          "base_uri": "https://localhost:8080/"
        },
        "id": "gnggy-RqNNKH",
        "outputId": "5a5fa3fa-efa7-4e66-b15e-4def7030c460"
      },
      "outputs": [
        {
          "data": {
            "text/plain": [
              "tensor([0.7054, 0.0351, 0.2595])"
            ]
          },
          "execution_count": 3,
          "metadata": {},
          "output_type": "execute_result"
        }
      ],
      "source": [
        "import torch\n",
        "import torch.nn as nn\n",
        "\n",
        "class MySoftmax(nn.Module):\n",
        "    def __init__(self):\n",
        "        super().__init__()\n",
        "\n",
        "    def forward(self, x):\n",
        "        return torch.softmax(x, dim=0)\n",
        "\n",
        "data = torch.Tensor([5, 2, 4])\n",
        "my_softmax = MySoftmax()\n",
        "output = my_softmax(data)\n",
        "\n",
        "assert torch.isclose(round(output[-1].item(), 2), 0.26, rtol=1e-09, atol=1e-09)\n",
        "output\n"
      ]
    },
    {
      "cell_type": "markdown",
      "metadata": {
        "id": "_vPe3ba0OwkY"
      },
      "source": [
        "Câu 3"
      ]
    },
    {
      "cell_type": "code",
      "execution_count": 6,
      "metadata": {
        "colab": {
          "base_uri": "https://localhost:8080/"
        },
        "id": "jE3UK0q1OxpL",
        "outputId": "aaefd94c-87cc-4b90-8b28-54c8c286a3d6"
      },
      "outputs": [
        {
          "data": {
            "text/plain": [
              "tensor([0., 0., 1.])"
            ]
          },
          "execution_count": 6,
          "metadata": {},
          "output_type": "execute_result"
        }
      ],
      "source": [
        "import torch\n",
        "import torch.nn as nn\n",
        "\n",
        "class MySoftmax(nn.Module):\n",
        "    def __init__(self):\n",
        "        super().__init__()\n",
        "\n",
        "    def forward(self, x):\n",
        "        return torch.softmax(x, dim=0)\n",
        "\n",
        "data = torch.Tensor([1, 2, 300000000])\n",
        "my_softmax = MySoftmax()\n",
        "output = my_softmax(data)\n",
        "\n",
        "assert torch.isclose(round(output[0].item(), 2), 0.0, rtol=1e-09, atol=1e-09)\n",
        "output"
      ]
    },
    {
      "cell_type": "markdown",
      "metadata": {
        "id": "pO1mUZSMPtHE"
      },
      "source": [
        "Câu 4"
      ]
    },
    {
      "cell_type": "code",
      "execution_count": 8,
      "metadata": {
        "colab": {
          "base_uri": "https://localhost:8080/"
        },
        "id": "7bXC1XwNPuSB",
        "outputId": "7a529896-072a-4bd2-a173-82199f0e3c3e"
      },
      "outputs": [
        {
          "data": {
            "text/plain": [
              "tensor([0.0900, 0.2447, 0.6652])"
            ]
          },
          "execution_count": 8,
          "metadata": {},
          "output_type": "execute_result"
        }
      ],
      "source": [
        "import torch\n",
        "import torch . nn as nn\n",
        "\n",
        "class SoftmaxStable ( nn . Module ):\n",
        "  def __init__ ( self ) :\n",
        "    super () . __init__ ()\n",
        "\n",
        "  def forward ( self , x ) :\n",
        "    x_max = torch .max(x , dim =0 , keepdims = True )\n",
        "    x_exp = torch . exp ( x - x_max . values )\n",
        "    partition = x_exp .sum (0 , keepdims = True )\n",
        "    return x_exp / partition\n",
        "\n",
        "data = torch . Tensor ([1 , 2 , 3])\n",
        "softmax_stable = SoftmaxStable ()\n",
        "output = softmax_stable ( data )\n",
        "\n",
        "assert torch.isclose(round ( output [ -1]. item () , 2), 0.67, rtol=1e-09, atol=1e-09)\n",
        "output"
      ]
    },
    {
      "cell_type": "markdown",
      "metadata": {
        "id": "rlbkiTpYQB0U"
      },
      "source": [
        "Câu 5"
      ]
    },
    {
      "cell_type": "code",
      "execution_count": 9,
      "metadata": {
        "colab": {
          "base_uri": "https://localhost:8080/"
        },
        "id": "WvO0AbkzQDEs",
        "outputId": "48575787-929c-48a6-faaa-15318e658b9d"
      },
      "outputs": [
        {
          "name": "stdout",
          "output_type": "stream",
          "text": [
            "Student - NAME:  studentZ2023  - YOB: 2011 - GRADE: 6\n"
          ]
        }
      ],
      "source": [
        "from abc import ABC, abstractmethod\n",
        "\n",
        "class Person(ABC):\n",
        "    def __init__(self, name:str, yob:int):\n",
        "        self._name = name\n",
        "        self._yob = yob\n",
        "\n",
        "    def get_yob(self):\n",
        "        return self._yob\n",
        "\n",
        "    @abstractmethod\n",
        "    def describe(self):\n",
        "        pass\n",
        "\n",
        "\n",
        "class Student(Person):\n",
        "    def __init__(self, name:str, yob:int, grade:str):\n",
        "        super().__init__(name=name, yob=yob)\n",
        "        self.__grade = grade\n",
        "\n",
        "    def describe(self):\n",
        "        print(f\"Student - NAME: {self._name} - YOB: {self._yob} - GRADE: {self.__grade}\")\n",
        "\n",
        "\n",
        "student1 = Student ( name =\" studentZ2023 \", yob =2011 , grade =\"6\")\n",
        "\n",
        "assert student1 . _yob == 2011\n",
        "student1.describe ()"
      ]
    },
    {
      "cell_type": "markdown",
      "metadata": {
        "id": "LqDHH_aqRBjd"
      },
      "source": [
        "Câu 6"
      ]
    },
    {
      "cell_type": "code",
      "execution_count": 11,
      "metadata": {
        "colab": {
          "base_uri": "https://localhost:8080/"
        },
        "id": "jUThI8mTQrRW",
        "outputId": "7bf4b962-7fa2-43cc-87e1-b7dc8b71a015"
      },
      "outputs": [
        {
          "name": "stdout",
          "output_type": "stream",
          "text": [
            "Teacher - NAME:  teacherZ2023  - YOB: 1991 - SUBJECT:  History \n"
          ]
        }
      ],
      "source": [
        "from abc import ABC, abstractmethod\n",
        "\n",
        "class Person(ABC):\n",
        "    def __init__(self, name:str, yob:int):\n",
        "        self._name = name\n",
        "        self._yob = yob\n",
        "\n",
        "    def get_yob(self):\n",
        "        return self._yob\n",
        "\n",
        "    @abstractmethod\n",
        "    def describe(self):\n",
        "        pass\n",
        "\n",
        "class Teacher(Person):\n",
        "    def __init__(self, name:str, yob:int, subject:str):\n",
        "        super().__init__(name=name, yob=yob)\n",
        "        self.__subject = subject\n",
        "\n",
        "    def describe(self):\n",
        "        print(f\"Teacher - NAME: {self._name} - YOB: {self._yob} - SUBJECT: {self.__subject}\")\n",
        "\n",
        "teacher1 = Teacher ( name =\" teacherZ2023 \", yob =1991 , subject =\" History \")\n",
        "\n",
        "assert teacher1 . _yob == 1991\n",
        "teacher1.describe ()\n"
      ]
    },
    {
      "cell_type": "markdown",
      "metadata": {
        "id": "WobKiBJZRQG5"
      },
      "source": [
        "Câu 7"
      ]
    },
    {
      "cell_type": "code",
      "execution_count": 13,
      "metadata": {
        "colab": {
          "base_uri": "https://localhost:8080/"
        },
        "id": "zT9qyL-sRAfh",
        "outputId": "6b530136-a0d9-4462-aa73-a11f79a099a4"
      },
      "outputs": [
        {
          "name": "stdout",
          "output_type": "stream",
          "text": [
            "Doctor - NAME:  doctorZ2023  - YOB: 1981 - SPECIALIST:  Endocrinologists \n"
          ]
        }
      ],
      "source": [
        "from abc import ABC, abstractmethod\n",
        "\n",
        "class Person(ABC):\n",
        "    def __init__(self, name:str, yob:int):\n",
        "        self._name = name\n",
        "        self._yob = yob\n",
        "\n",
        "    def get_yob(self):\n",
        "        return self._yob\n",
        "\n",
        "    @abstractmethod\n",
        "    def describe(self):\n",
        "        pass\n",
        "\n",
        "class Doctor(Person):\n",
        "    def __init__(self, name:str, yob:int, specialist:str):\n",
        "        super().__init__(name=name, yob=yob)\n",
        "        self.__specialist = specialist\n",
        "\n",
        "    def describe(self):\n",
        "        print(f\"Doctor - NAME: {self._name} - YOB: {self._yob} - SPECIALIST: {self.__specialist}\")\n",
        "\n",
        "doctor1 = Doctor ( name =\" doctorZ2023 \", yob =1981 , specialist =\" Endocrinologists \")\n",
        "\n",
        "assert doctor1 . _yob == 1981\n",
        "doctor1.describe ()"
      ]
    },
    {
      "cell_type": "markdown",
      "metadata": {
        "id": "RGk6ejvGRtq7"
      },
      "source": [
        "Câu 8"
      ]
    },
    {
      "cell_type": "code",
      "execution_count": 21,
      "metadata": {
        "colab": {
          "base_uri": "https://localhost:8080/"
        },
        "id": "kIcoHfvRRVOT",
        "outputId": "c8b769c1-42f8-4a78-c800-71f492e3430a"
      },
      "outputs": [
        {
          "name": "stdout",
          "output_type": "stream",
          "text": [
            "Number of doctors: 2\n"
          ]
        }
      ],
      "source": [
        "class Ward:\n",
        "    def __init__(self, name: str):\n",
        "        self.__name = name\n",
        "        self.__list_people = list()\n",
        "\n",
        "    def add_person(self, person: Person):\n",
        "        self.__list_people.append(person)\n",
        "\n",
        "    def describe(self):\n",
        "        print(f\"Ward Name: {self.__name}\")\n",
        "        for p in self.__list_people:\n",
        "            p.describe()\n",
        "\n",
        "    def count_doctor(self):\n",
        "        counter = 0\n",
        "        for p in self.__list_people:\n",
        "            if isinstance(p, Doctor):\n",
        "                counter += 1\n",
        "        return counter\n",
        "student1 = Student(name=\"studentA\", yob=2010, grade=\"7\")\n",
        "teacher1 = Teacher(name=\"teacherA\", yob=1969, subject=\"Math\")\n",
        "teacher2 = Teacher(name=\"teacherB\", yob=1995, subject=\"History\")\n",
        "doctor1 = Doctor(name=\"doctorA\", yob=1945, specialist=\"Endocrinologists\")\n",
        "ward1 = Ward(name=\"Ward1\")\n",
        "ward1.add_person(student1)\n",
        "ward1.add_person(teacher1)\n",
        "ward1.add_person(teacher2)\n",
        "ward1.add_person(doctor1)\n",
        "assert ward1.count_doctor() == 1\n",
        "\n",
        "doctor2 = Doctor(name=\"doctorB\", yob=1975, specialist=\"Cardiologists\")\n",
        "ward1.add_person(doctor2)\n",
        "\n",
        "print(\"Number of doctors:\", ward1.count_doctor())\n"
      ]
    },
    {
      "cell_type": "markdown",
      "metadata": {
        "id": "hf7P2_OkURXY"
      },
      "source": [
        "Câu 9"
      ]
    },
    {
      "cell_type": "code",
      "execution_count": 24,
      "metadata": {
        "colab": {
          "base_uri": "https://localhost:8080/"
        },
        "id": "fehDCWIeSBhW",
        "outputId": "0e3a65eb-ec91-40a4-a5c0-74842fa3b1ba"
      },
      "outputs": [
        {
          "name": "stdout",
          "output_type": "stream",
          "text": [
            "False\n"
          ]
        }
      ],
      "source": [
        "class MyStack:\n",
        "    def __init__(self, capacity):\n",
        "        self.__capacity = capacity\n",
        "        self.__stack = []\n",
        "\n",
        "    def is_empty(self):\n",
        "        return len(self.__stack) == 0\n",
        "\n",
        "    def is_full(self):\n",
        "        return len(self.__stack) == self.__capacity\n",
        "\n",
        "    def push(self, value):\n",
        "        if self.is_full():\n",
        "            raise IndexError(\"Overflow\")\n",
        "\n",
        "        self.__stack.append(value)\n",
        "\n",
        "stack1 = MyStack ( capacity =5)\n",
        "stack1 . push (1)\n",
        "\n",
        "assert stack1 . is_full () == False\n",
        "stack1 . push (2)\n",
        "print ( stack1 . is_full () )"
      ]
    },
    {
      "cell_type": "markdown",
      "metadata": {
        "id": "iAQZrogJUlg5"
      },
      "source": [
        "Câu 10"
      ]
    },
    {
      "cell_type": "code",
      "execution_count": 25,
      "metadata": {
        "colab": {
          "base_uri": "https://localhost:8080/"
        },
        "id": "wVT3ridaUmZu",
        "outputId": "9727db03-9d56-43ee-8bb3-62de0b4b4aab"
      },
      "outputs": [
        {
          "name": "stdout",
          "output_type": "stream",
          "text": [
            "2\n"
          ]
        }
      ],
      "source": [
        "class MyStack:\n",
        "    def __init__(self, capacity):\n",
        "        self.__capacity = capacity\n",
        "        self.__stack = []\n",
        "\n",
        "    def is_empty(self):\n",
        "        return len(self.__stack) == 0\n",
        "\n",
        "    def is_full(self):\n",
        "        return len(self.__stack) == self.__capacity\n",
        "\n",
        "    def push(self, value):\n",
        "        if self.is_full():\n",
        "            raise IndexError(\"Overflow\")\n",
        "\n",
        "        self.__stack.append(value)\n",
        "\n",
        "    def top(self):\n",
        "        if self.is_empty():\n",
        "            print(\"Queue is still empty\")\n",
        "            return\n",
        "        return self.__stack[-1]\n",
        "\n",
        "stack1 = MyStack ( capacity =5)\n",
        "stack1 . push (1)\n",
        "\n",
        "assert stack1 . is_full () == False\n",
        "stack1 . push (2)\n",
        "print ( stack1 . top () )"
      ]
    },
    {
      "cell_type": "markdown",
      "metadata": {
        "id": "1G6ebfk1VCB3"
      },
      "source": [
        "Câu 11"
      ]
    },
    {
      "cell_type": "code",
      "execution_count": 26,
      "metadata": {
        "colab": {
          "base_uri": "https://localhost:8080/"
        },
        "id": "ea3ejnVFVDRG",
        "outputId": "500a1a86-6d18-4b80-9739-2181645d6e61"
      },
      "outputs": [
        {
          "name": "stdout",
          "output_type": "stream",
          "text": [
            "False\n"
          ]
        }
      ],
      "source": [
        "class MyQueue:\n",
        "    def __init__(self, capacity):\n",
        "        self.__capacity = capacity\n",
        "        self.__queue = []\n",
        "\n",
        "    def is_full(self):\n",
        "        return len(self.__queue) == self.__capacity\n",
        "\n",
        "    def enqueue(self, value):\n",
        "        if self.is_full():\n",
        "            raise IndexError(\"Overflow\")\n",
        "        self.__queue.append(value)\n",
        "\n",
        "queue1 = MyQueue ( capacity =5)\n",
        "queue1 . enqueue (1)\n",
        "\n",
        "assert queue1 . is_full () == False\n",
        "queue1 . enqueue (2)\n",
        "print ( queue1 . is_full () )"
      ]
    },
    {
      "cell_type": "code",
      "execution_count": 27,
      "metadata": {
        "colab": {
          "base_uri": "https://localhost:8080/"
        },
        "id": "3Ea57aEbVMgo",
        "outputId": "d07d934e-ecc7-45e1-d3f3-5a89ca733888"
      },
      "outputs": [
        {
          "name": "stdout",
          "output_type": "stream",
          "text": [
            "1\n"
          ]
        }
      ],
      "source": [
        "class MyQueue:\n",
        "    def __init__(self, capacity):\n",
        "        self.__capacity = capacity\n",
        "        self.__queue = []\n",
        "\n",
        "    def is_empty(self):\n",
        "        return len(self.__queue) == 0\n",
        "\n",
        "    def is_full(self):\n",
        "        return len(self.__queue) == self.__capacity\n",
        "\n",
        "    def dequeue(self):\n",
        "        if self.is_empty():\n",
        "            raise IndexError(\"Underflow\")\n",
        "        return self.__queue.pop(0)\n",
        "\n",
        "    def enqueue(self, value):\n",
        "        if self.is_full():\n",
        "            raise IndexError(\"Overflow\")\n",
        "        self.__queue.append(value)\n",
        "\n",
        "    def front(self):\n",
        "        if self.is_empty():\n",
        "            print(\"Queue 1 is empty\")\n",
        "            return\n",
        "        return self.__queue[0]\n",
        "\n",
        "queue1 = MyQueue ( capacity =5)\n",
        "queue1 . enqueue (1)\n",
        "\n",
        "assert queue1 . is_full () == False\n",
        "queue1 . enqueue (2)\n",
        "print ( queue1 . front () )"
      ]
    },
    {
      "cell_type": "markdown",
      "metadata": {
        "id": "iU_p6nwMV6t_"
      },
      "source": [
        "**CÂU HỎI TỰ LUẬN**"
      ]
    },
    {
      "cell_type": "markdown",
      "metadata": {
        "id": "hG15LZOGV-Be"
      },
      "source": [
        "Câu 1"
      ]
    },
    {
      "cell_type": "code",
      "execution_count": 29,
      "metadata": {
        "colab": {
          "base_uri": "https://localhost:8080/"
        },
        "id": "k-O205UTVjP1",
        "outputId": "58fffba2-52bd-4b27-d5ea-57a562f9d93e"
      },
      "outputs": [
        {
          "data": {
            "text/plain": [
              "tensor([0.0900, 0.2447, 0.6652])"
            ]
          },
          "execution_count": 29,
          "metadata": {},
          "output_type": "execute_result"
        }
      ],
      "source": [
        "import torch\n",
        "import torch.nn as nn\n",
        "\n",
        "class SoftmaxStable(nn.Module):\n",
        "    def __init__(self):\n",
        "        super().__init__()\n",
        "\n",
        "    def forward(self, x):\n",
        "        x_max = torch.max(x, dim=0, keepdims=True)\n",
        "        x_exp = torch.exp(x - x_max.values)\n",
        "        partition = x_exp.sum(0, keepdims=True)\n",
        "        return x_exp / partition\n",
        "\n",
        "data = torch.Tensor ([1 , 2 , 3])\n",
        "softmax_function = nn.Softmax ( dim =0)\n",
        "output = softmax_function ( data )\n",
        "assert torch.isclose(round ( output [0]. item () , 2), 0.09, rtol=1e-09, atol=1e-09)\n",
        "output"
      ]
    },
    {
      "cell_type": "markdown",
      "metadata": {
        "id": "kyc-nxJ0XkS0"
      },
      "source": [
        "Câu 2"
      ]
    },
    {
      "cell_type": "code",
      "execution_count": 31,
      "metadata": {
        "colab": {
          "base_uri": "https://localhost:8080/"
        },
        "id": "P0ddSJStXlxF",
        "outputId": "f526d8f1-941d-4894-e9f6-1b63617196b4"
      },
      "outputs": [
        {
          "name": "stdout",
          "output_type": "stream",
          "text": [
            "Student - Name:  studentA  - YoB: 2010 - Grade: 7\n",
            "Teacher - Name:  teacherA  - YoB: 1969 - Subject:  Math \n",
            "Doctor - Name:  doctorA  - YoB: 1945 - Specialist:  Endocrinologists \n",
            "\n",
            "Ward Name:  Ward1 \n",
            "Student - Name:  studentA  - YoB: 2010 - Grade: 7\n",
            "Teacher - Name:  teacherA  - YoB: 1969 - Subject:  Math \n",
            "Teacher - Name:  teacherB  - YoB: 1995 - Subject:  History \n",
            "Doctor - Name:  doctorA  - YoB: 1945 - Specialist:  Endocrinologists \n",
            "Doctor - Name:  doctorB  - YoB: 1975 - Specialist:  Cardiologists \n",
            "Number of doctors : 2\n",
            "After sorting Age of Ward1 people \n",
            "Ward Name:  Ward1 \n",
            "Student - Name:  studentA  - YoB: 2010 - Grade: 7\n",
            "Teacher - Name:  teacherB  - YoB: 1995 - Subject:  History \n",
            "Doctor - Name:  doctorB  - YoB: 1975 - Specialist:  Cardiologists \n",
            "Teacher - Name:  teacherA  - YoB: 1969 - Subject:  Math \n",
            "Doctor - Name:  doctorA  - YoB: 1945 - Specialist:  Endocrinologists \n",
            "Average year of birth ( teachers ): 1982.0\n"
          ]
        }
      ],
      "source": [
        "from abc import ABC, abstractmethod\n",
        "\n",
        "class Person(ABC):\n",
        "    def __init__(self, name:str, yob:int):\n",
        "        self._name = name\n",
        "        self._yob = yob\n",
        "\n",
        "    def get_yob(self):\n",
        "        return self._yob\n",
        "\n",
        "    @abstractmethod\n",
        "    def describe(self):\n",
        "        pass\n",
        "\n",
        "\n",
        "class Student(Person):\n",
        "    def __init__(self, name:str, yob:int, grade:str):\n",
        "        super().__init__(name=name, yob=yob)\n",
        "        self.__grade = grade\n",
        "\n",
        "    def describe(self):\n",
        "        print(f\"Student - Name: {self._name} - YoB: {self._yob} - Grade: {self.__grade}\")\n",
        "\n",
        "\n",
        "class Teacher(Person):\n",
        "    def __init__(self, name:str, yob:int, subject:str):\n",
        "        super().__init__(name=name, yob=yob)\n",
        "        self.__subject = subject\n",
        "\n",
        "    def describe(self):\n",
        "        print(f\"Teacher - Name: {self._name} - YoB: {self._yob} - Subject: {self.__subject}\")\n",
        "\n",
        "\n",
        "class Doctor(Person):\n",
        "    def __init__(self, name:str, yob:int, specialist:str):\n",
        "        super().__init__(name=name, yob=yob)\n",
        "        self.__specialist = specialist\n",
        "\n",
        "    def describe(self):\n",
        "        print(f\"Doctor - Name: {self._name} - YoB: {self._yob} - Specialist: {self.__specialist}\")\n",
        "\n",
        "class Ward:\n",
        "    def __init__(self, name:str):\n",
        "        self.__name = name\n",
        "        self.__list_people = list()\n",
        "\n",
        "    def add_person(self, person:Person):\n",
        "        self.__list_people.append(person)\n",
        "\n",
        "    def describe(self):\n",
        "        print(f\"Ward Name: {self.__name}\")\n",
        "        for p in self.__list_people:\n",
        "            p.describe()\n",
        "\n",
        "    def count_doctor(self):\n",
        "        counter = 0\n",
        "        for p in self.__list_people:\n",
        "            if isinstance(p, Doctor): #if type(p) is Doctor:\n",
        "                counter += 1\n",
        "        return counter\n",
        "\n",
        "    def sort_age(self):\n",
        "        self.__list_people.sort(key=lambda x: x.get_yob(), reverse=True)\n",
        "\n",
        "    def compute_average(self):\n",
        "        counter = 0\n",
        "        total_year = 0\n",
        "        for p in self.__list_people:\n",
        "            if isinstance(p, Teacher): #if type(p) is Teacher:\n",
        "                counter += 1\n",
        "                total_year += p.get_yob()\n",
        "        return total_year/counter\n",
        "# 2(a)\n",
        "student1 = Student ( name =\" studentA \", yob =2010 , grade =\"7\")\n",
        "student1 . describe ()\n",
        "\n",
        "teacher1 = Teacher ( name =\" teacherA \", yob =1969 , subject =\" Math \")\n",
        "teacher1 . describe ()\n",
        "\n",
        "doctor1 = Doctor ( name =\" doctorA \", yob =1945 , specialist =\" Endocrinologists \")\n",
        "doctor1 . describe ()\n",
        "\n",
        "# 2(b)\n",
        "print ()\n",
        "teacher2 = Teacher ( name =\" teacherB \", yob =1995 , subject =\" History \")\n",
        "doctor2 = Doctor ( name =\" doctorB \", yob =1975 , specialist =\" Cardiologists \")\n",
        "\n",
        "ward1 = Ward ( name =\" Ward1 \")\n",
        "ward1 . add_person ( student1 )\n",
        "ward1 . add_person ( teacher1 )\n",
        "ward1 . add_person ( teacher2 )\n",
        "ward1 . add_person ( doctor1 )\n",
        "ward1 . add_person ( doctor2 )\n",
        "ward1 . describe ()\n",
        "\n",
        "# 2(c)\n",
        "print ( f\"Number of doctors : { ward1 . count_doctor ()}\")\n",
        "\n",
        "# 2(d)\n",
        "print (\"After sorting Age of Ward1 people \")\n",
        "ward1 . sort_age ()\n",
        "ward1 . describe ()\n",
        "\n",
        "# 2(e)\n",
        "print ( f\"Average year of birth ( teachers ): { ward1 . compute_average ()}\")\n"
      ]
    },
    {
      "cell_type": "markdown",
      "metadata": {
        "id": "KdWHQvhtYslG"
      },
      "source": [
        "Câu 3"
      ]
    },
    {
      "cell_type": "code",
      "execution_count": 32,
      "metadata": {
        "colab": {
          "base_uri": "https://localhost:8080/"
        },
        "id": "JioQA5dxYtdz",
        "outputId": "328063de-9667-4eca-cb22-4466ff0db809"
      },
      "outputs": [
        {
          "name": "stdout",
          "output_type": "stream",
          "text": [
            "False\n",
            "2\n",
            "2\n",
            "1\n",
            "1\n",
            "True\n"
          ]
        }
      ],
      "source": [
        "class MyStack:\n",
        "    def __init__(self, capacity):\n",
        "        self.__capacity = capacity\n",
        "        self.__stack = []\n",
        "\n",
        "    def is_empty(self):\n",
        "        return len(self.__stack) == 0\n",
        "\n",
        "    def is_full(self):\n",
        "        return len(self.__stack) == self.__capacity\n",
        "\n",
        "    def pop(self):\n",
        "        if self.is_empty():\n",
        "            raise IndexError(\"Underflow\")\n",
        "        return self.__stack.pop()\n",
        "\n",
        "    def push(self, value):\n",
        "        if self.is_full():\n",
        "            raise IndexError(\"Overflow\")\n",
        "\n",
        "        self.__stack.append(value)\n",
        "\n",
        "    def top(self):\n",
        "        if self.is_empty():\n",
        "            print(\"Queue is empty\")\n",
        "            return\n",
        "        return self.__stack[-1]\n",
        "\n",
        "stack1 = MyStack(capacity=5)\n",
        "\n",
        "stack1.push(1)\n",
        "\n",
        "stack1.push(2)\n",
        "\n",
        "print(stack1.is_full())\n",
        "\n",
        "print(stack1.top())\n",
        "\n",
        "print(stack1.pop())\n",
        "\n",
        "print(stack1.top())\n",
        "\n",
        "print(stack1.pop())\n",
        "\n",
        "print(stack1.is_empty())"
      ]
    },
    {
      "cell_type": "markdown",
      "metadata": {
        "id": "y31rkffcY4pM"
      },
      "source": [
        "Câu 4"
      ]
    },
    {
      "cell_type": "code",
      "execution_count": 33,
      "metadata": {
        "colab": {
          "base_uri": "https://localhost:8080/"
        },
        "id": "ABNpZoAOY5ZP",
        "outputId": "1d8d4fac-5778-4433-ad9e-2246f5ae63e3"
      },
      "outputs": [
        {
          "name": "stdout",
          "output_type": "stream",
          "text": [
            "False\n",
            "1\n",
            "1\n",
            "2\n",
            "2\n",
            "True\n"
          ]
        }
      ],
      "source": [
        "class MyQueue:\n",
        "    def __init__(self, capacity):\n",
        "        self.__capacity = capacity\n",
        "        self.__queue = []\n",
        "\n",
        "    def is_empty(self):\n",
        "        return len(self.__queue) == 0\n",
        "\n",
        "    def is_full(self):\n",
        "        return len(self.__queue) == self.__capacity\n",
        "\n",
        "    def dequeue(self):\n",
        "        if self.is_empty():\n",
        "            raise IndexError(\"Underflow\")\n",
        "        return self.__queue.pop(0)\n",
        "\n",
        "    def enqueue(self, value):\n",
        "        if self.is_full():\n",
        "            raise IndexError(\"Overflow\")\n",
        "        self.__queue.append(value)\n",
        "\n",
        "    def front(self):\n",
        "        if self.is_empty():\n",
        "            print(\"Queue is empty\")\n",
        "            return\n",
        "        return self.__queue[0]\n",
        "\n",
        "queue1 = MyQueue(capacity=5)\n",
        "\n",
        "queue1.enqueue(1)\n",
        "\n",
        "queue1.enqueue(2)\n",
        "\n",
        "print(queue1.is_full())\n",
        "\n",
        "print(queue1.front())\n",
        "\n",
        "print(queue1.dequeue())\n",
        "\n",
        "print(queue1.front())\n",
        "\n",
        "print(queue1.dequeue())\n",
        "\n",
        "print(queue1.is_empty())"
      ]
    }
  ],
  "metadata": {
    "colab": {
      "provenance": []
    },
    "kernelspec": {
      "display_name": "Python 3",
      "name": "python3"
    },
    "language_info": {
      "name": "python"
    }
  },
  "nbformat": 4,
  "nbformat_minor": 0
}
